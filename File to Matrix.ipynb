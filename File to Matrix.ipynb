{
 "cells": [
  {
   "cell_type": "code",
   "execution_count": 9,
   "id": "9e73b144",
   "metadata": {},
   "outputs": [],
   "source": [
    "import functions as f\n",
    "import main as m"
   ]
  },
  {
   "cell_type": "code",
   "execution_count": 10,
   "id": "e1aa240f",
   "metadata": {},
   "outputs": [],
   "source": [
    "file = f.open_file(\"./Data/hsv1_ordered_pruned_0.txt\")"
   ]
  },
  {
   "cell_type": "code",
   "execution_count": 45,
   "id": "bc7f1bfd",
   "metadata": {},
   "outputs": [],
   "source": [
    "def file_to_matrix(location):\n",
    "    file = open(location, \"r\")\n",
    "    List = []\n",
    "    for lines in file:\n",
    "        tempList = lines.split(\"\\t\")\n",
    "        List.append(tempList[0])\n",
    "        List.append(tempList[1])\n",
    "        List.append(tempList[2])\n",
    "    \n",
    "    rows = len(List)\n",
    "    temp_matrix = [[ i*j for i in range(rows)] for j in range(3)] \n",
    "    for row in range(len(temp_matrix)):\n",
    "        for col in range (len(temp_matrix[row])):\n",
    "            temp_matrix[row][col] = List[col]\n",
    "    return temp_matrix\n",
    "            \n",
    "    "
   ]
  },
  {
   "cell_type": "code",
   "execution_count": 46,
   "id": "b9886319",
   "metadata": {},
   "outputs": [],
   "source": [
    "test = file_to_matrix(\"./Data/hsv1_ordered_pruned_0.txt\")"
   ]
  },
  {
   "cell_type": "code",
   "execution_count": null,
   "id": "bdc8b449",
   "metadata": {},
   "outputs": [],
   "source": []
  }
 ],
 "metadata": {
  "kernelspec": {
   "display_name": "Python 3 (ipykernel)",
   "language": "python",
   "name": "python3"
  },
  "language_info": {
   "codemirror_mode": {
    "name": "ipython",
    "version": 3
   },
   "file_extension": ".py",
   "mimetype": "text/x-python",
   "name": "python",
   "nbconvert_exporter": "python",
   "pygments_lexer": "ipython3",
   "version": "3.9.12"
  }
 },
 "nbformat": 4,
 "nbformat_minor": 5
}
