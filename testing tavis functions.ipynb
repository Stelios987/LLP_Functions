{
 "cells": [
  {
   "cell_type": "code",
   "execution_count": 8,
   "id": "15407cc1",
   "metadata": {},
   "outputs": [],
   "source": [
    "import functions as f"
   ]
  },
  {
   "cell_type": "code",
   "execution_count": 9,
   "id": "252a78f3",
   "metadata": {},
   "outputs": [],
   "source": [
    "human_prots = f.load_object(\"./Data/Biogrid/gene_dict_Homo_sapiens\")"
   ]
  },
  {
   "cell_type": "code",
   "execution_count": 10,
   "id": "af802c91",
   "metadata": {},
   "outputs": [],
   "source": [
    "hsv1 = f.load_proteome(\"./Data/proteomes/hsv1_uniprot-proteome.tab\")"
   ]
  },
  {
   "cell_type": "code",
   "execution_count": 13,
   "id": "088fcf8e",
   "metadata": {},
   "outputs": [],
   "source": [
    "subcell_prot_dict, subcell_loc_dict = f.create_subcell_locs()"
   ]
  },
  {
   "cell_type": "code",
   "execution_count": null,
   "id": "fbfb4316",
   "metadata": {},
   "outputs": [],
   "source": []
  }
 ],
 "metadata": {
  "kernelspec": {
   "display_name": "Python 3 (ipykernel)",
   "language": "python",
   "name": "python3"
  },
  "language_info": {
   "codemirror_mode": {
    "name": "ipython",
    "version": 3
   },
   "file_extension": ".py",
   "mimetype": "text/x-python",
   "name": "python",
   "nbconvert_exporter": "python",
   "pygments_lexer": "ipython3",
   "version": "3.9.12"
  }
 },
 "nbformat": 4,
 "nbformat_minor": 5
}
