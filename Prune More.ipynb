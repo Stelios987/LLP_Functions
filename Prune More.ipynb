{
 "cells": [
  {
   "cell_type": "code",
   "execution_count": 1,
   "id": "c4243faa",
   "metadata": {},
   "outputs": [],
   "source": [
    "import functions as f"
   ]
  },
  {
   "cell_type": "code",
   "execution_count": 2,
   "id": "830cb573",
   "metadata": {},
   "outputs": [
    {
     "data": {
      "text/plain": [
       "25966"
      ]
     },
     "execution_count": 2,
     "metadata": {},
     "output_type": "execute_result"
    }
   ],
   "source": [
    "x = f.open_file1(\"./Data/hsv1_shared_pairs_1-5.txt\")\n",
    "len(x)"
   ]
  },
  {
   "cell_type": "code",
   "execution_count": 8,
   "id": "de570842",
   "metadata": {},
   "outputs": [],
   "source": [
    "def save_file2(dictionary, location, newList):\n",
    "    file = open(location, \"w\")\n",
    "    new_dic = dict()\n",
    "    for key, value in dictionary.items():\n",
    "        for element in newList:\n",
    "            if(float(value[element]) > 0.8):\n",
    "                new_dic[key] = value\n",
    "    for key, value in new_dic.items():\n",
    "        file.writelines([key[0], \"\\t\", key[1], \"\\t\", str(value[0]), \"\\t\", str(value[1]), \"\\t\", str(value[2]), \"\\t\", str(value[3]), \"\\t\", str(value[4]), \"\\n\"])\n",
    "    file.close()"
   ]
  },
  {
   "cell_type": "code",
   "execution_count": 9,
   "id": "7f276667",
   "metadata": {},
   "outputs": [],
   "source": [
    "w = save_file2(x, \"./Data/hsv1_pruned+_shared_pairs_1-5.txt\", [0,1,2,3,4])"
   ]
  },
  {
   "cell_type": "code",
   "execution_count": null,
   "id": "ccdb6d09",
   "metadata": {},
   "outputs": [],
   "source": []
  }
 ],
 "metadata": {
  "kernelspec": {
   "display_name": "Python 3 (ipykernel)",
   "language": "python",
   "name": "python3"
  },
  "language_info": {
   "codemirror_mode": {
    "name": "ipython",
    "version": 3
   },
   "file_extension": ".py",
   "mimetype": "text/x-python",
   "name": "python",
   "nbconvert_exporter": "python",
   "pygments_lexer": "ipython3",
   "version": "3.9.12"
  }
 },
 "nbformat": 4,
 "nbformat_minor": 5
}
