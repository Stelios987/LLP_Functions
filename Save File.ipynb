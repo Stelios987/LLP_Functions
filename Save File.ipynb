{
 "cells": [
  {
   "cell_type": "code",
   "execution_count": 25,
   "id": "e33543d1",
   "metadata": {},
   "outputs": [],
   "source": [
    "import functions as f"
   ]
  },
  {
   "cell_type": "code",
   "execution_count": 26,
   "id": "33ce385a",
   "metadata": {},
   "outputs": [],
   "source": [
    "dic = f.open_file(\"./Data/hsv1_weighted_pred_dict_A_hpi_15.txt\")"
   ]
  },
  {
   "cell_type": "code",
   "execution_count": 27,
   "id": "48aaddc8",
   "metadata": {},
   "outputs": [],
   "source": [
    "def save_file(dictionary, location):\n",
    "    file = open(location, \"w\")\n",
    "    new_dic = dict()\n",
    "    for key, value in dictionary.items():\n",
    "        if(value > 0.35):\n",
    "            new_dic[key] = value\n",
    "    for key, value in new_dic.items():\n",
    "        file.writelines([key[0], \"\\t\", key[1], \"\\t\", str(value), \"\\n\"])\n",
    "    file.close()\n",
    "    \n",
    "save_file(dic,\"./Data/hsv1_pruned_15.txt\")"
   ]
  },
  {
   "cell_type": "code",
   "execution_count": null,
   "id": "1dc09da2",
   "metadata": {},
   "outputs": [],
   "source": []
  }
 ],
 "metadata": {
  "kernelspec": {
   "display_name": "Python 3 (ipykernel)",
   "language": "python",
   "name": "python3"
  },
  "language_info": {
   "codemirror_mode": {
    "name": "ipython",
    "version": 3
   },
   "file_extension": ".py",
   "mimetype": "text/x-python",
   "name": "python",
   "nbconvert_exporter": "python",
   "pygments_lexer": "ipython3",
   "version": "3.9.12"
  }
 },
 "nbformat": 4,
 "nbformat_minor": 5
}
