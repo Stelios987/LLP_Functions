{
 "cells": [
  {
   "cell_type": "code",
   "execution_count": null,
   "id": "1e0a19c6",
   "metadata": {},
   "outputs": [],
   "source": [
    "import function as f"
   ]
  },
  {
   "cell_type": "code",
   "execution_count": null,
   "id": "a78c91fc",
   "metadata": {},
   "outputs": [],
   "source": []
  },
  {
   "cell_type": "code",
   "execution_count": null,
   "id": "580ee02a",
   "metadata": {},
   "outputs": [],
   "source": [
    "def find_list_of_shared_proteins(data_dict):\n",
    "    # input a dict formatted (protein1, protein2): value\n",
    "    # gives back a list of unique proteins\n",
    "    all_proteins = list()\n",
    "    for key in data_dict.keys():\n",
    "        all_proteins.append(key[0])\n",
    "        all_proteins.append(key[1])\n",
    "    unique_proteins = list(set(all_proteins))\n",
    "    return unique_proteins"
   ]
  },
  {
   "cell_type": "code",
   "execution_count": null,
   "id": "d5270237",
   "metadata": {},
   "outputs": [],
   "source": [
    "def find_shared_proteins(dict1, dict2, dict3, dict4):\n",
    "    uniq_dict1 = set(find_list_of_unique_proteins(dict1))\n",
    "    uniq_dict2 = set(find_list_of_unique_proteins(dict2))\n",
    "    uniq_dict3 = set(find_list_of_unique_proteins(dict3))\n",
    "    uniq_dict4 = set(find_list_of_unique_proteins(dict4))\n",
    "    shared_proteins1 = uniq_dict1.intersection(uniq_dict2)\n",
    "    shared_proteins2 = uniq_dict3.intersection(uniq_dict4)\n",
    "    shared_proteins3 = shared_proteins1.intersection(shared_proteins2)\n",
    "    return shared_proteins3\n",
    "    "
   ]
  }
 ],
 "metadata": {
  "kernelspec": {
   "display_name": "Python 3 (ipykernel)",
   "language": "python",
   "name": "python3"
  },
  "language_info": {
   "codemirror_mode": {
    "name": "ipython",
    "version": 3
   },
   "file_extension": ".py",
   "mimetype": "text/x-python",
   "name": "python",
   "nbconvert_exporter": "python",
   "pygments_lexer": "ipython3",
   "version": "3.9.12"
  }
 },
 "nbformat": 4,
 "nbformat_minor": 5
}
