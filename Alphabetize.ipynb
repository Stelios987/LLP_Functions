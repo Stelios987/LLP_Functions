{
 "cells": [
  {
   "cell_type": "code",
   "execution_count": 1,
   "id": "c99d8f0b",
   "metadata": {},
   "outputs": [],
   "source": [
    "import functions as f"
   ]
  },
  {
   "cell_type": "code",
   "execution_count": 2,
   "id": "099283a9",
   "metadata": {},
   "outputs": [],
   "source": [
    "Data = f.open_file(\"./Data/hsv1_pruned_15.txt\")"
   ]
  },
  {
   "cell_type": "code",
   "execution_count": 3,
   "id": "c7e1c505",
   "metadata": {},
   "outputs": [],
   "source": [
    "def alphabetize(file_location):\n",
    "    tempList = []\n",
    "    file = open(file_location, \"r\")\n",
    "    for lines in file:\n",
    "        tempList.append(lines)\n",
    "    tempList.sort()\n",
    "    file.close()\n",
    "    return tempList"
   ]
  },
  {
   "cell_type": "code",
   "execution_count": 4,
   "id": "de8e08ea",
   "metadata": {},
   "outputs": [],
   "source": [
    "ordered_list = alphabetize(\"./Data/hsv1_pruned_0.txt\")"
   ]
  },
  {
   "cell_type": "code",
   "execution_count": 115,
   "id": "943fc7d0",
   "metadata": {},
   "outputs": [],
   "source": [
    "def write_file(file, new_list):\n",
    "    new_file = open(file, \"w\")\n",
    "    for lines in new_list:\n",
    "        new_file.writelines(lines)\n",
    "    new_file.close()"
   ]
  },
  {
   "cell_type": "code",
   "execution_count": 6,
   "id": "4db12c9d",
   "metadata": {},
   "outputs": [],
   "source": [
    "newFile = write_file(\"./Data/hsv1_ordered_pruned_20.txt\", ordered_list)"
   ]
  }
 ],
 "metadata": {
  "kernelspec": {
   "display_name": "Python 3 (ipykernel)",
   "language": "python",
   "name": "python3"
  },
  "language_info": {
   "codemirror_mode": {
    "name": "ipython",
    "version": 3
   },
   "file_extension": ".py",
   "mimetype": "text/x-python",
   "name": "python",
   "nbconvert_exporter": "python",
   "pygments_lexer": "ipython3",
   "version": "3.9.12"
  }
 },
 "nbformat": 4,
 "nbformat_minor": 5
}
