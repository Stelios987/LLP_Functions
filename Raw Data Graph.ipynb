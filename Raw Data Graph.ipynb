{
 "cells": [
  {
   "cell_type": "code",
   "execution_count": 17,
   "id": "3a8e0704",
   "metadata": {},
   "outputs": [],
   "source": [
    "import seaborn as sns\n",
    "import pandas as pd\n",
    "import functions as f"
   ]
  },
  {
   "cell_type": "code",
   "execution_count": 18,
   "id": "aea993d8",
   "metadata": {},
   "outputs": [],
   "source": [
    "dic = f.open_file(\"./Data/hsv1_weighted_pred_dict_A_hpi_0.txt\")"
   ]
  },
  {
   "cell_type": "code",
   "execution_count": 19,
   "id": "ba7b224e",
   "metadata": {},
   "outputs": [],
   "source": [
    "values = list(dic.values())"
   ]
  },
  {
   "cell_type": "code",
   "execution_count": 20,
   "id": "620adae8",
   "metadata": {},
   "outputs": [
    {
     "data": {
      "text/html": [
       "<div>\n",
       "<style scoped>\n",
       "    .dataframe tbody tr th:only-of-type {\n",
       "        vertical-align: middle;\n",
       "    }\n",
       "\n",
       "    .dataframe tbody tr th {\n",
       "        vertical-align: top;\n",
       "    }\n",
       "\n",
       "    .dataframe thead th {\n",
       "        text-align: right;\n",
       "    }\n",
       "</style>\n",
       "<table border=\"1\" class=\"dataframe\">\n",
       "  <thead>\n",
       "    <tr style=\"text-align: right;\">\n",
       "      <th></th>\n",
       "      <th>0</th>\n",
       "    </tr>\n",
       "  </thead>\n",
       "  <tbody>\n",
       "    <tr>\n",
       "      <th>0</th>\n",
       "      <td>0.123324</td>\n",
       "    </tr>\n",
       "    <tr>\n",
       "      <th>1</th>\n",
       "      <td>0.332621</td>\n",
       "    </tr>\n",
       "    <tr>\n",
       "      <th>2</th>\n",
       "      <td>0.081979</td>\n",
       "    </tr>\n",
       "    <tr>\n",
       "      <th>3</th>\n",
       "      <td>0.117444</td>\n",
       "    </tr>\n",
       "    <tr>\n",
       "      <th>4</th>\n",
       "      <td>0.116852</td>\n",
       "    </tr>\n",
       "    <tr>\n",
       "      <th>...</th>\n",
       "      <td>...</td>\n",
       "    </tr>\n",
       "    <tr>\n",
       "      <th>5784995</th>\n",
       "      <td>0.130383</td>\n",
       "    </tr>\n",
       "    <tr>\n",
       "      <th>5784996</th>\n",
       "      <td>0.110102</td>\n",
       "    </tr>\n",
       "    <tr>\n",
       "      <th>5784997</th>\n",
       "      <td>0.083638</td>\n",
       "    </tr>\n",
       "    <tr>\n",
       "      <th>5784998</th>\n",
       "      <td>0.195185</td>\n",
       "    </tr>\n",
       "    <tr>\n",
       "      <th>5784999</th>\n",
       "      <td>0.305736</td>\n",
       "    </tr>\n",
       "  </tbody>\n",
       "</table>\n",
       "<p>5785000 rows × 1 columns</p>\n",
       "</div>"
      ],
      "text/plain": [
       "                0\n",
       "0        0.123324\n",
       "1        0.332621\n",
       "2        0.081979\n",
       "3        0.117444\n",
       "4        0.116852\n",
       "...           ...\n",
       "5784995  0.130383\n",
       "5784996  0.110102\n",
       "5784997  0.083638\n",
       "5784998  0.195185\n",
       "5784999  0.305736\n",
       "\n",
       "[5785000 rows x 1 columns]"
      ]
     },
     "execution_count": 20,
     "metadata": {},
     "output_type": "execute_result"
    }
   ],
   "source": [
    "df = pd.DataFrame(data=values)\n",
    "df"
   ]
  },
  {
   "cell_type": "code",
   "execution_count": 21,
   "id": "5a0fd06e",
   "metadata": {},
   "outputs": [
    {
     "data": {
      "text/plain": [
       "<seaborn.axisgrid.FacetGrid at 0x13391be0850>"
      ]
     },
     "execution_count": 21,
     "metadata": {},
     "output_type": "execute_result"
    },
    {
     "data": {
      "image/png": "[encoded data removed]",
      "text/plain": [
       "<Figure size 402.375x360 with 1 Axes>"
      ]
     },
     "metadata": {
      "needs_background": "light"
     },
     "output_type": "display_data"
    }
   ],
   "source": [
    "sns.displot(df)"
   ]
  }
 ],
 "metadata": {
  "kernelspec": {
   "display_name": "Python 3 (ipykernel)",
   "language": "python",
   "name": "python3"
  },
  "language_info": {
   "codemirror_mode": {
    "name": "ipython",
    "version": 3
   },
   "file_extension": ".py",
   "mimetype": "text/x-python",
   "name": "python",
   "nbconvert_exporter": "python",
   "pygments_lexer": "ipython3",
   "version": "3.9.12"
  }
 },
 "nbformat": 4,
 "nbformat_minor": 5
}
